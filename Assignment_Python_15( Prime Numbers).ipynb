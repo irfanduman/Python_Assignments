{
 "cells": [
  {
   "cell_type": "markdown",
   "id": "d6594069",
   "metadata": {},
   "source": [
    "# Assignment-15 (Python - Prime Numbers)\n",
    "\n",
    "**Task :** Print the prime numbers which are between 1 to entered limit number (n).\n",
    "\n",
    "    * You can use a nested for loop.\n",
    "    * Collect all these numbers into a list\n",
    "    \n",
    "* The desired output for n=100 :\n",
    "\n",
    "[2, 3, 5, 7, 11, 13, 17, 19, 23, 29, 31, 37, 41, 43, 47, 53, 59, 61, 67, 71, 73, 79, 83, 89, 97]\n",
    "\n",
    "\n",
    "**Note that :** This question is famous on the web, so to get more benefit from this assignment, try to complete this task on your own."
   ]
  },
  {
   "cell_type": "code",
   "execution_count": 6,
   "id": "7096a17b",
   "metadata": {},
   "outputs": [
    {
     "name": "stdout",
     "output_type": "stream",
     "text": [
      "Enter a number to see list of all primes up to that number: 1000\n",
      "The list of prime numers between 1 and 1000: \n",
      " [2, 3, 5, 7, 11, 13, 17, 19, 23, 29, 31, 37, 41, 43, 47, 53, 59, 61, 67, 71, 73, 79, 83, 89, 97, 101, 103, 107, 109, 113, 127, 131, 137, 139, 149, 151, 157, 163, 167, 173, 179, 181, 191, 193, 197, 199, 211, 223, 227, 229, 233, 239, 241, 251, 257, 263, 269, 271, 277, 281, 283, 293, 307, 311, 313, 317, 331, 337, 347, 349, 353, 359, 367, 373, 379, 383, 389, 397, 401, 409, 419, 421, 431, 433, 439, 443, 449, 457, 461, 463, 467, 479, 487, 491, 499, 503, 509, 521, 523, 541, 547, 557, 563, 569, 571, 577, 587, 593, 599, 601, 607, 613, 617, 619, 631, 641, 643, 647, 653, 659, 661, 673, 677, 683, 691, 701, 709, 719, 727, 733, 739, 743, 751, 757, 761, 769, 773, 787, 797, 809, 811, 821, 823, 827, 829, 839, 853, 857, 859, 863, 877, 881, 883, 887, 907, 911, 919, 929, 937, 941, 947, 953, 967, 971, 977, 983, 991, 997]\n"
     ]
    }
   ],
   "source": [
    "limit = int(input(\"Enter a number to see list of all primes up to that number: \"))\n",
    "\n",
    "primes = []\n",
    "\n",
    "for n in range (2, limit):\n",
    "    no_of_factors = 0\n",
    "    for i in range(1,n+1):\n",
    "        if n % i == 0:  \n",
    "            no_of_factors += 1\n",
    "    if no_of_factors == 2:  # check if it has exactly two factors\n",
    "        primes.append(n)  # append to primes if it has exactly two primes\n",
    "        \n",
    "print(f\"The list of prime numers between 1 and {limit}:\", \"\\n\", primes)"
   ]
  },
  {
   "cell_type": "code",
   "execution_count": null,
   "id": "2840bdf4",
   "metadata": {},
   "outputs": [],
   "source": []
  }
 ],
 "metadata": {
  "kernelspec": {
   "display_name": "Python 3 (ipykernel)",
   "language": "python",
   "name": "python3"
  },
  "language_info": {
   "codemirror_mode": {
    "name": "ipython",
    "version": 3
   },
   "file_extension": ".py",
   "mimetype": "text/x-python",
   "name": "python",
   "nbconvert_exporter": "python",
   "pygments_lexer": "ipython3",
   "version": "3.10.8"
  }
 },
 "nbformat": 4,
 "nbformat_minor": 5
}

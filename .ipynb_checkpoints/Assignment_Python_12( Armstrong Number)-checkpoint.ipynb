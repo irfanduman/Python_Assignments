{
 "cells": [
  {
   "cell_type": "markdown",
   "id": "39998cbe",
   "metadata": {},
   "source": [
    "# Assignment-12 (Python - Is It an Armstrong Number?)\n",
    "\n",
    "**Task: Find out if a given number is an \"Armstrong Number\".**\n",
    "\n",
    "* An n-digit number that is the sum of the nth powers of its digits is called an n-Armstrong number. Examples :\n",
    "    1. 371 = 3^3 + 7^3 + 1^3;\n",
    "    2. 9474 = 9^4 + 4^4 + 7^4 + 4^4;\n",
    "    3. 93084 = 9^5 + 3^5 + 0^5 + 8^5 + 4^5.\n",
    "\n",
    "\n",
    "\n",
    "* Write a Python program that;\n",
    "    1. takes a positive integer number from the user,\n",
    "    2. checks the entered number if it is Armstrong,\n",
    "    3. consider the negative, float and any entries other than numeric values then display a warning message to the user.\n"
   ]
  },
  {
   "cell_type": "code",
   "execution_count": null,
   "id": "c19e7ac5",
   "metadata": {},
   "outputs": [],
   "source": [
    "print(input(\"ERROR! Enter a valid positive integer: \"))"
   ]
  },
  {
   "cell_type": "code",
   "execution_count": 1,
   "id": "fc9616de",
   "metadata": {},
   "outputs": [
    {
     "name": "stdout",
     "output_type": "stream",
     "text": [
      "Enter a positive integer: 9474\n",
      "an Armstrong number.\n"
     ]
    }
   ],
   "source": [
    "n = input(\"Enter a positive integer: \")\n",
    "\n",
    "while not n.isdigit():\n",
    "    print(\"ERROR! You made an incorrect entry.\")\n",
    "    n = input(\"Enter a positive integer: \")\n",
    "\n",
    "digits = []\n",
    "\n",
    "for i in n:\n",
    "    digits.append(int(i)**len(n))\n",
    "\n",
    "digit_sum = sum(digits)\n",
    "\n",
    "if digit_sum == int(n):\n",
    "    print(\"an Armstrong number.\")\n",
    "\n",
    "else:\n",
    "    print(\"NOT an Armstrong number.\")"
   ]
  },
  {
   "cell_type": "code",
   "execution_count": null,
   "id": "6bb4a5ea",
   "metadata": {},
   "outputs": [],
   "source": []
  }
 ],
 "metadata": {
  "kernelspec": {
   "display_name": "Python 3 (ipykernel)",
   "language": "python",
   "name": "python3"
  },
  "language_info": {
   "codemirror_mode": {
    "name": "ipython",
    "version": 3
   },
   "file_extension": ".py",
   "mimetype": "text/x-python",
   "name": "python",
   "nbconvert_exporter": "python",
   "pygments_lexer": "ipython3",
   "version": "3.10.8"
  }
 },
 "nbformat": 4,
 "nbformat_minor": 5
}

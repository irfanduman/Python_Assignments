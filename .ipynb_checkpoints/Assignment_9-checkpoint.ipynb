{
 "cells": [
  {
   "cell_type": "markdown",
   "id": "29efd7c6",
   "metadata": {},
   "source": [
    "# Assignment-9 (Python - Password Reminder)\n",
    "\n",
    "**Task : Let's say; you left a message in the past that prints a password you need. To see the password you wrote, you need to enter your name and the program should recognize you.**\n",
    "\n",
    "### Write a program that \n",
    "\n",
    "* Takes the first name from the user and compares it to yours,\n",
    "* Then if the name the user entered is the same as yours, print out such as : \"Hello, Joseph! The password is : W@12\",\n",
    "* If the name the user entered is not the same as yours, print out such as : \"Hello, Amina! See you later.\""
   ]
  },
  {
   "cell_type": "code",
   "execution_count": 4,
   "id": "1a53ee13",
   "metadata": {},
   "outputs": [
    {
     "name": "stdout",
     "output_type": "stream",
     "text": [
      "Enter your name to see the password.IRFAN\n",
      "Hello Irfan! The password is W@12\n"
     ]
    }
   ],
   "source": [
    "name1 = \"Irfan\"\n",
    "name2 = input(\"Enter your name to see the password.\").title()\n",
    "\n",
    "if name1 == name2:\n",
    "    print(f\"Hello {name2}! The password is W@12\")\n",
    "else:\n",
    "    print(f\"Hello {name2}! See you later.\")"
   ]
  },
  {
   "cell_type": "code",
   "execution_count": null,
   "id": "8edaaa10",
   "metadata": {},
   "outputs": [],
   "source": []
  }
 ],
 "metadata": {
  "kernelspec": {
   "display_name": "Python 3 (ipykernel)",
   "language": "python",
   "name": "python3"
  },
  "language_info": {
   "codemirror_mode": {
    "name": "ipython",
    "version": 3
   },
   "file_extension": ".py",
   "mimetype": "text/x-python",
   "name": "python",
   "nbconvert_exporter": "python",
   "pygments_lexer": "ipython3",
   "version": "3.10.8"
  }
 },
 "nbformat": 4,
 "nbformat_minor": 5
}

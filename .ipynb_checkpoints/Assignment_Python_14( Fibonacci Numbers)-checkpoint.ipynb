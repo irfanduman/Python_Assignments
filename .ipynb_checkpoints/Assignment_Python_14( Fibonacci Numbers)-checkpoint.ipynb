{
 "cells": [
  {
   "cell_type": "markdown",
   "id": "1ec27825",
   "metadata": {},
   "source": [
    "# Assignment-14 (Python - Fibonacci Numbers)\n",
    "\n",
    "**Task :** Create a list consisting of Fibonacci numbers from 1 to 55 using control flow statements and range() function.\n",
    "\n",
    "    The desired output is like this:\n",
    "\n",
    "    fibonacci →  [1, 1, 2, 3, 5, 8, 13, 21, 34, 55]"
   ]
  },
  {
   "cell_type": "code",
   "execution_count": 31,
   "id": "12053d7f",
   "metadata": {},
   "outputs": [
    {
     "name": "stdout",
     "output_type": "stream",
     "text": [
      "[1, 1, 2, 3, 5, 8, 13, 21, 34, 55]\n"
     ]
    }
   ],
   "source": [
    "fibonacci = [1, 1]\n",
    "a = 1\n",
    "b = 1\n",
    "\n",
    "for n in range(56):\n",
    "    if n == a + b:\n",
    "        fibonacci.append(n)\n",
    "        a = b\n",
    "        b = n\n",
    "    \n",
    "print(fibonacci)"
   ]
  },
  {
   "cell_type": "code",
   "execution_count": 32,
   "id": "1ffd2910",
   "metadata": {},
   "outputs": [
    {
     "name": "stdout",
     "output_type": "stream",
     "text": [
      "[1, 1, 2, 3, 5, 8, 13, 21, 34, 55]\n"
     ]
    }
   ],
   "source": [
    "fibonacci = [1]\n",
    "a = 0\n",
    "b = 1\n",
    "\n",
    "for n in range(56):\n",
    "    if n == a + b:\n",
    "        fibonacci.append(n)\n",
    "        a = b\n",
    "        b = n\n",
    "    \n",
    "print(fibonacci)"
   ]
  },
  {
   "cell_type": "code",
   "execution_count": null,
   "id": "4327bf09",
   "metadata": {},
   "outputs": [],
   "source": []
  }
 ],
 "metadata": {
  "kernelspec": {
   "display_name": "Python 3 (ipykernel)",
   "language": "python",
   "name": "python3"
  },
  "language_info": {
   "codemirror_mode": {
    "name": "ipython",
    "version": 3
   },
   "file_extension": ".py",
   "mimetype": "text/x-python",
   "name": "python",
   "nbconvert_exporter": "python",
   "pygments_lexer": "ipython3",
   "version": "3.10.8"
  }
 },
 "nbformat": 4,
 "nbformat_minor": 5
}

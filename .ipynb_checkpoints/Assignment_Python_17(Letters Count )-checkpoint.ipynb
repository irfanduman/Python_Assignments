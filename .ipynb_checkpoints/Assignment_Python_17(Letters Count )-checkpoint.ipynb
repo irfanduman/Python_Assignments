{
 "cells": [
  {
   "cell_type": "markdown",
   "id": "b8fe8676",
   "metadata": {},
   "source": [
    "# Assignment-17 (Python - Letters Count)\n",
    "\n",
    "**Task:**\n",
    "\n",
    "Count the number of each letter in a sentence.\n",
    "* The department you work for undertook a project construction that makes word / text analysis. You are asked to calculate the number of letters or any chars in the sentences entered under this project.\n",
    "* Write a Python program that;\n",
    "    1. takes a sentence from the user,\n",
    "    2. counts the number of each letter/chars of the sentence,\n",
    "    3. collects the letters/chars as a key and the counted numbers as a value in a **dictionary**."
   ]
  },
  {
   "cell_type": "code",
   "execution_count": 3,
   "id": "0a5350ac",
   "metadata": {},
   "outputs": [
    {
     "name": "stdout",
     "output_type": "stream",
     "text": [
      "Write a sentence to see the frequency of its letters/characters :My name is Khan.\n",
      "{'m': 2, 'y': 1, ' ': 3, 'n': 2, 'a': 2, 'e': 1, 'i': 1, 's': 1, 'k': 1, 'h': 1, '.': 1}\n"
     ]
    }
   ],
   "source": [
    "sentence = input(\"Write a sentence to see the frequency of its letters/characters :\").lower()\n",
    "\n",
    "def no_of_chr(data):\n",
    "    characters = {}\n",
    "    for i in data:\n",
    "        keys = characters.keys()\n",
    "        if i in keys:\n",
    "            characters[i] += 1\n",
    "        else:\n",
    "            characters[i] = 1\n",
    "    return characters\n",
    "\n",
    "print(no_of_chr(sentence))"
   ]
  }
 ],
 "metadata": {
  "kernelspec": {
   "display_name": "Python 3 (ipykernel)",
   "language": "python",
   "name": "python3"
  },
  "language_info": {
   "codemirror_mode": {
    "name": "ipython",
    "version": 3
   },
   "file_extension": ".py",
   "mimetype": "text/x-python",
   "name": "python",
   "nbconvert_exporter": "python",
   "pygments_lexer": "ipython3",
   "version": "3.10.8"
  }
 },
 "nbformat": 4,
 "nbformat_minor": 5
}

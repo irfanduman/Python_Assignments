{
 "cells": [
  {
   "cell_type": "markdown",
   "id": "1ab2eec6",
   "metadata": {},
   "source": [
    "# Assignment-11 (Python - Leap Years)\n",
    "\n",
    "**Task: Find out if a given year is a \"leap\" year.**\n",
    "\n",
    "*In the Gregorian calendar, three criteria must be taken into account to identify leap years:\n",
    "\n",
    "1) The year must be evenly divisible by 4;\n",
    "\n",
    "2) If the year can also be evenly divided by 100, it is not a leap year; unless...\n",
    "\n",
    "3) The year is also evenly divisible by 400. Then it is a leap year.\n",
    "\n",
    "According to these rules, the years 2000 and 2400 are leap years, while 1800, 1900, 2100, 2200, 2300, and 2500 are not the leap years.\n",
    "\n",
    "* Write a Python program that prints such as **\"2020 is a leap year\"** if the given year by the user is a **leap** year, prints such as **\"2019 is not a leap year\"** otherwise."
   ]
  },
  {
   "cell_type": "code",
   "execution_count": 1,
   "id": "98c2fe5d",
   "metadata": {},
   "outputs": [
    {
     "name": "stdout",
     "output_type": "stream",
     "text": [
      "Write a four digit year to find out if it is a 'leap' year: 2300\n",
      "2300 is NOT a leap year\n"
     ]
    }
   ],
   "source": [
    "x = int(input(\"Write a four digit year to find out if it is a 'leap' year: \"))\n",
    "\n",
    "if x % 4 == 0:\n",
    "    if x % 100 == 0:\n",
    "        if x % 400 == 0:\n",
    "            print(f\"{x} is a leap year\")\n",
    "        else:\n",
    "            print(f\"{x} is NOT a leap year\")\n",
    "    else:\n",
    "        print(f\"{x} is a leap year\")\n",
    "\n",
    "else:\n",
    "    print(f\"{x} is NOT a leap year\")"
   ]
  },
  {
   "cell_type": "code",
   "execution_count": null,
   "id": "41c05b8c",
   "metadata": {},
   "outputs": [],
   "source": []
  },
  {
   "cell_type": "code",
   "execution_count": null,
   "id": "e89116b9",
   "metadata": {},
   "outputs": [],
   "source": []
  }
 ],
 "metadata": {
  "kernelspec": {
   "display_name": "Python 3 (ipykernel)",
   "language": "python",
   "name": "python3"
  },
  "language_info": {
   "codemirror_mode": {
    "name": "ipython",
    "version": 3
   },
   "file_extension": ".py",
   "mimetype": "text/x-python",
   "name": "python",
   "nbconvert_exporter": "python",
   "pygments_lexer": "ipython3",
   "version": "3.10.8"
  }
 },
 "nbformat": 4,
 "nbformat_minor": 5
}

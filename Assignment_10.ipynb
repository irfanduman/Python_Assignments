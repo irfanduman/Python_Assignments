{
 "cells": [
  {
   "cell_type": "markdown",
   "id": "628be764",
   "metadata": {},
   "source": [
    "# Assignment-10 (Python - Covid-19 Risk with if Statements)\n",
    "\n",
    "### Problem :\n",
    "\n",
    "* **Task** : Estimating the risk of death from coronavirus. Write a program that;\n",
    "\n",
    "* Takes \"Yes\" or \"No\" from the user as an answer to the following questions :\n",
    "\n",
    "    * Are you a cigarette addict older than 75 years old? Variable → age\n",
    "\n",
    "    * Do you have a severe chronic disease? Variable → chronic\n",
    "\n",
    "    * Is your immune system too weak? Variable → immune\n",
    "\n",
    "\n",
    "Set a logical algorithm using boolean logic operators (and/or) and use if-statements with the given variables in order to print out us a message : \"You are in risky group\"(if True ) or \"You are not in risky group\" (if False)."
   ]
  },
  {
   "cell_type": "code",
   "execution_count": 3,
   "id": "6b49a7b3",
   "metadata": {},
   "outputs": [],
   "source": [
    "# \"Yes\" cevabini her seferinde yanlis girmesi durumunda (ornegin yess, yees) sonucun -NO RISK- cikmamamsi icin en son ERROR durumunu ekledim"
   ]
  },
  {
   "cell_type": "code",
   "execution_count": 2,
   "id": "f1fd0d5f",
   "metadata": {},
   "outputs": [
    {
     "name": "stdout",
     "output_type": "stream",
     "text": [
      "Are you a cigarette addict older than 75 years old? Answer Yes or No: No\n",
      "Do you have a severe chronic disease? Answer Yes or No: yes\n",
      "Is your immune system too weak? Answer Yes or No: yes\n",
      "You are in risky group.\n"
     ]
    }
   ],
   "source": [
    "age = input(\"Are you a cigarette addict older than 75 years old? Answer Yes or No: \").title()\n",
    "chronic = input(\"Do you have a severe chronic disease? Answer Yes or No: \").title()\n",
    "immune = input(\"Is your immune system too weak? Answer Yes or No: \").title()\n",
    "\n",
    "if age == \"Yes\" or chronic == \"Yes\" or immune == \"Yes\":\n",
    "    print(\"You are in risky group.\")\n",
    "\n",
    "elif age == \"No\" and chronic == \"No\" and immune == \"No\":\n",
    "    print(\"You are NOT in risky group.\")\n",
    "\n",
    "else:\n",
    "    print(\"ERROR: Make sure all your answers are either 'Yes' or 'No'!\")"
   ]
  }
 ],
 "metadata": {
  "kernelspec": {
   "display_name": "Python 3 (ipykernel)",
   "language": "python",
   "name": "python3"
  },
  "language_info": {
   "codemirror_mode": {
    "name": "ipython",
    "version": 3
   },
   "file_extension": ".py",
   "mimetype": "text/x-python",
   "name": "python",
   "nbconvert_exporter": "python",
   "pygments_lexer": "ipython3",
   "version": "3.10.8"
  }
 },
 "nbformat": 4,
 "nbformat_minor": 5
}

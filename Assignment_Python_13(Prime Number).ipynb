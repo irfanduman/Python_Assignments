{
 "cells": [
  {
   "cell_type": "markdown",
   "id": "91976a99",
   "metadata": {},
   "source": [
    "# Assignment-13 (Python - Is it a Prime Number?)\n",
    "\n",
    "* Task : Write a program that takes a number from the user and prints the result to check if it is a prime number.\n",
    "\n",
    "    The examples of the desired output are as follows :\n",
    "\n",
    "    * input →  19 ⇉ output : 19 is a prime number\n",
    "    * input →  10 ⇉ output : 10 is not a prime number\n",
    "    \n",
    "    \n",
    "* Note that ⚠ : This question is famous on the web, so to get more benefit from this assignment, try to complete this task on your own. "
   ]
  },
  {
   "cell_type": "code",
   "execution_count": 4,
   "id": "6d849374",
   "metadata": {},
   "outputs": [
    {
     "name": "stdout",
     "output_type": "stream",
     "text": [
      "Enter a number to check if it is a prime number : 27\n",
      "27 is NOT a prime number\n"
     ]
    }
   ],
   "source": [
    "n = int(input('Enter a number to check if it is a prime number : '))\n",
    "\n",
    "no_of_factors = 0\n",
    "\n",
    "for i in range(1,n+1):\n",
    "    if n % i == 0:\n",
    "        no_of_factors += 1\n",
    "\n",
    "if no_of_factors == 2:\n",
    "    print(f\"{n} is a prime number\")\n",
    "\n",
    "else:\n",
    "    print(f\"{n} is NOT a prime number\")"
   ]
  },
  {
   "cell_type": "code",
   "execution_count": null,
   "id": "284507d4",
   "metadata": {},
   "outputs": [],
   "source": []
  }
 ],
 "metadata": {
  "kernelspec": {
   "display_name": "Python 3 (ipykernel)",
   "language": "python",
   "name": "python3"
  },
  "language_info": {
   "codemirror_mode": {
    "name": "ipython",
    "version": 3
   },
   "file_extension": ".py",
   "mimetype": "text/x-python",
   "name": "python",
   "nbconvert_exporter": "python",
   "pygments_lexer": "ipython3",
   "version": "3.10.8"
  }
 },
 "nbformat": 4,
 "nbformat_minor": 5
}
